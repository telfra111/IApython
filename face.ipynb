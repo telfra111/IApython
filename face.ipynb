from scipy import misc
import matplotlib.pyplot as plt
face = misc.face(gray=True)
plt.imshow(face,cmap=plt.cm.gray)
plt.show()